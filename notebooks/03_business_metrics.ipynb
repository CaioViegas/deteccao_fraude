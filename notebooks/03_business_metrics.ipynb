{
 "cells": [
  {
   "cell_type": "markdown",
   "id": "1c5720e3",
   "metadata": {},
   "source": [
    "##### Importações"
   ]
  },
  {
   "cell_type": "code",
   "execution_count": null,
   "id": "879b389a",
   "metadata": {},
   "outputs": [],
   "source": [
    "import pandas as pd"
   ]
  },
  {
   "cell_type": "code",
   "execution_count": 2,
   "id": "3dd2e31a",
   "metadata": {},
   "outputs": [],
   "source": [
    "df = pd.read_csv(\"../data/transformed/transformed_cybersecurity_intrusion_data.csv\")"
   ]
  },
  {
   "cell_type": "code",
   "execution_count": 3,
   "id": "be45ec91",
   "metadata": {},
   "outputs": [
    {
     "data": {
      "text/html": [
       "<div>\n",
       "<style scoped>\n",
       "    .dataframe tbody tr th:only-of-type {\n",
       "        vertical-align: middle;\n",
       "    }\n",
       "\n",
       "    .dataframe tbody tr th {\n",
       "        vertical-align: top;\n",
       "    }\n",
       "\n",
       "    .dataframe thead th {\n",
       "        text-align: right;\n",
       "    }\n",
       "</style>\n",
       "<table border=\"1\" class=\"dataframe\">\n",
       "  <thead>\n",
       "    <tr style=\"text-align: right;\">\n",
       "      <th></th>\n",
       "      <th>session_id</th>\n",
       "      <th>network_packet_size</th>\n",
       "      <th>protocol_type</th>\n",
       "      <th>login_attempts</th>\n",
       "      <th>session_duration</th>\n",
       "      <th>encryption_used</th>\n",
       "      <th>ip_reputation_score</th>\n",
       "      <th>failed_logins</th>\n",
       "      <th>browser_type</th>\n",
       "      <th>unusual_time_access</th>\n",
       "      <th>attack_detected</th>\n",
       "      <th>long_session</th>\n",
       "      <th>protocol_encrypt</th>\n",
       "      <th>large_packet</th>\n",
       "      <th>risk_score</th>\n",
       "    </tr>\n",
       "  </thead>\n",
       "  <tbody>\n",
       "    <tr>\n",
       "      <th>0</th>\n",
       "      <td>SID_00001</td>\n",
       "      <td>599.0</td>\n",
       "      <td>TCP</td>\n",
       "      <td>4.0</td>\n",
       "      <td>492.983263</td>\n",
       "      <td>DES</td>\n",
       "      <td>0.606818</td>\n",
       "      <td>1.0</td>\n",
       "      <td>Edge</td>\n",
       "      <td>0.0</td>\n",
       "      <td>1.0</td>\n",
       "      <td>0</td>\n",
       "      <td>TCP_DES</td>\n",
       "      <td>1</td>\n",
       "      <td>0.724773</td>\n",
       "    </tr>\n",
       "    <tr>\n",
       "      <th>1</th>\n",
       "      <td>SID_00002</td>\n",
       "      <td>472.0</td>\n",
       "      <td>TCP</td>\n",
       "      <td>3.0</td>\n",
       "      <td>1557.996461</td>\n",
       "      <td>DES</td>\n",
       "      <td>0.301569</td>\n",
       "      <td>0.0</td>\n",
       "      <td>Firefox</td>\n",
       "      <td>0.0</td>\n",
       "      <td>0.0</td>\n",
       "      <td>1</td>\n",
       "      <td>TCP_DES</td>\n",
       "      <td>0</td>\n",
       "      <td>0.211098</td>\n",
       "    </tr>\n",
       "    <tr>\n",
       "      <th>2</th>\n",
       "      <td>SID_00003</td>\n",
       "      <td>629.0</td>\n",
       "      <td>TCP</td>\n",
       "      <td>3.0</td>\n",
       "      <td>75.044262</td>\n",
       "      <td>DES</td>\n",
       "      <td>0.739164</td>\n",
       "      <td>2.0</td>\n",
       "      <td>Chrome</td>\n",
       "      <td>0.0</td>\n",
       "      <td>1.0</td>\n",
       "      <td>0</td>\n",
       "      <td>TCP_DES</td>\n",
       "      <td>1</td>\n",
       "      <td>1.117415</td>\n",
       "    </tr>\n",
       "    <tr>\n",
       "      <th>3</th>\n",
       "      <td>SID_00005</td>\n",
       "      <td>453.0</td>\n",
       "      <td>TCP</td>\n",
       "      <td>5.0</td>\n",
       "      <td>532.540888</td>\n",
       "      <td>AES</td>\n",
       "      <td>0.054874</td>\n",
       "      <td>1.0</td>\n",
       "      <td>Firefox</td>\n",
       "      <td>0.0</td>\n",
       "      <td>0.0</td>\n",
       "      <td>0</td>\n",
       "      <td>TCP_AES</td>\n",
       "      <td>0</td>\n",
       "      <td>0.338412</td>\n",
       "    </tr>\n",
       "    <tr>\n",
       "      <th>4</th>\n",
       "      <td>SID_00006</td>\n",
       "      <td>453.0</td>\n",
       "      <td>UDP</td>\n",
       "      <td>5.0</td>\n",
       "      <td>380.471550</td>\n",
       "      <td>AES</td>\n",
       "      <td>0.422486</td>\n",
       "      <td>2.0</td>\n",
       "      <td>Chrome</td>\n",
       "      <td>1.0</td>\n",
       "      <td>0.0</td>\n",
       "      <td>0</td>\n",
       "      <td>UDP_AES</td>\n",
       "      <td>0</td>\n",
       "      <td>0.895740</td>\n",
       "    </tr>\n",
       "  </tbody>\n",
       "</table>\n",
       "</div>"
      ],
      "text/plain": [
       "  session_id  network_packet_size protocol_type  login_attempts  \\\n",
       "0  SID_00001                599.0           TCP             4.0   \n",
       "1  SID_00002                472.0           TCP             3.0   \n",
       "2  SID_00003                629.0           TCP             3.0   \n",
       "3  SID_00005                453.0           TCP             5.0   \n",
       "4  SID_00006                453.0           UDP             5.0   \n",
       "\n",
       "   session_duration encryption_used  ip_reputation_score  failed_logins  \\\n",
       "0        492.983263             DES             0.606818            1.0   \n",
       "1       1557.996461             DES             0.301569            0.0   \n",
       "2         75.044262             DES             0.739164            2.0   \n",
       "3        532.540888             AES             0.054874            1.0   \n",
       "4        380.471550             AES             0.422486            2.0   \n",
       "\n",
       "  browser_type  unusual_time_access  attack_detected  long_session  \\\n",
       "0         Edge                  0.0              1.0             0   \n",
       "1      Firefox                  0.0              0.0             1   \n",
       "2       Chrome                  0.0              1.0             0   \n",
       "3      Firefox                  0.0              0.0             0   \n",
       "4       Chrome                  1.0              0.0             0   \n",
       "\n",
       "  protocol_encrypt  large_packet  risk_score  \n",
       "0          TCP_DES             1    0.724773  \n",
       "1          TCP_DES             0    0.211098  \n",
       "2          TCP_DES             1    1.117415  \n",
       "3          TCP_AES             0    0.338412  \n",
       "4          UDP_AES             0    0.895740  "
      ]
     },
     "execution_count": 3,
     "metadata": {},
     "output_type": "execute_result"
    }
   ],
   "source": [
    "df.head()"
   ]
  },
  {
   "cell_type": "markdown",
   "id": "76082682",
   "metadata": {},
   "source": [
    "##### Métricas"
   ]
  },
  {
   "cell_type": "code",
   "execution_count": 4,
   "id": "fbf83f54",
   "metadata": {},
   "outputs": [
    {
     "name": "stdout",
     "output_type": "stream",
     "text": [
      "1. Taxa de sessões com ataque detectado: 42.68%\n"
     ]
    }
   ],
   "source": [
    "taxa_ataque = df['attack_detected'].mean()\n",
    "print(f\"1. Taxa de sessões com ataque detectado: {taxa_ataque:.2%}\")"
   ]
  },
  {
   "cell_type": "code",
   "execution_count": 5,
   "id": "cf38f85b",
   "metadata": {},
   "outputs": [
    {
     "name": "stdout",
     "output_type": "stream",
     "text": [
      "2. Duração média (ataques): 838.96 | (legítimas): 750.84\n"
     ]
    }
   ],
   "source": [
    "dur_maliciosa = df[df['attack_detected'] == 1]['session_duration'].mean()\n",
    "dur_legitima = df[df['attack_detected'] == 0]['session_duration'].mean()\n",
    "print(f\"2. Duração média (ataques): {dur_maliciosa:.2f} | (legítimas): {dur_legitima:.2f}\")"
   ]
  },
  {
   "cell_type": "code",
   "execution_count": 6,
   "id": "14798323",
   "metadata": {},
   "outputs": [
    {
     "name": "stdout",
     "output_type": "stream",
     "text": [
      "3. Tentativas de login (média em ataques): 4.64\n"
     ]
    }
   ],
   "source": [
    "login_ataques = df[df['attack_detected'] == 1]['login_attempts'].mean()\n",
    "print(f\"3. Tentativas de login (média em ataques): {login_ataques:.2f}\")"
   ]
  },
  {
   "cell_type": "code",
   "execution_count": 7,
   "id": "2e9cee93",
   "metadata": {},
   "outputs": [
    {
     "name": "stdout",
     "output_type": "stream",
     "text": [
      "4. Taxa de sessões com criptografia entre ataques: 100.00%\n"
     ]
    }
   ],
   "source": [
    "criptografia_ataques = df[(df['encryption_used'] != 'None') & (df['attack_detected'] == 1)].shape[0] / df[df['attack_detected'] == 1].shape[0]\n",
    "print(f\"4. Taxa de sessões com criptografia entre ataques: {criptografia_ataques:.2%}\")"
   ]
  },
  {
   "cell_type": "code",
   "execution_count": 16,
   "id": "6cedd15a",
   "metadata": {},
   "outputs": [
    {
     "name": "stdout",
     "output_type": "stream",
     "text": [
      "5. Ataques por protocolo:\n"
     ]
    },
    {
     "data": {
      "text/plain": [
       "protocol_type\n",
       "TCP     2144\n",
       "UDP      768\n",
       "ICMP     150\n",
       "Name: count, dtype: int64"
      ]
     },
     "execution_count": 16,
     "metadata": {},
     "output_type": "execute_result"
    }
   ],
   "source": [
    "print(\"5. Ataques por protocolo:\")\n",
    "ataques_por_protocolo = df[df['attack_detected'] == 1]['protocol_type'].value_counts()\n",
    "ataques_por_protocolo"
   ]
  },
  {
   "cell_type": "code",
   "execution_count": 9,
   "id": "9a6b3643",
   "metadata": {},
   "outputs": [
    {
     "name": "stdout",
     "output_type": "stream",
     "text": [
      "6. IP Reputation média em sessões com ataque: 0.38\n"
     ]
    }
   ],
   "source": [
    "reputacao_media = df[df['attack_detected'] == 1]['ip_reputation_score'].mean()\n",
    "print(f\"6. IP Reputation média em sessões com ataque: {reputacao_media:.2f}\")"
   ]
  },
  {
   "cell_type": "code",
   "execution_count": 10,
   "id": "a7707714",
   "metadata": {},
   "outputs": [
    {
     "name": "stdout",
     "output_type": "stream",
     "text": [
      "7. Taxa de sessões em horário incomum: 15.26%\n"
     ]
    }
   ],
   "source": [
    "taxa_incomum = df['unusual_time_access'].mean()\n",
    "print(f\"7. Taxa de sessões em horário incomum: {taxa_incomum:.2%}\")"
   ]
  },
  {
   "cell_type": "code",
   "execution_count": 11,
   "id": "31ac4838",
   "metadata": {},
   "outputs": [
    {
     "name": "stdout",
     "output_type": "stream",
     "text": [
      "8. Taxa de ataques com pacotes grandes: 50.00%\n"
     ]
    }
   ],
   "source": [
    "taxa_pacotes_grandes = df[(df['large_packet'] == 1) & (df['attack_detected'] == 1)].shape[0] / df[df['attack_detected'] == 1].shape[0]\n",
    "print(f\"8. Taxa de ataques com pacotes grandes: {taxa_pacotes_grandes:.2%}\")"
   ]
  },
  {
   "cell_type": "code",
   "execution_count": 17,
   "id": "87389a38",
   "metadata": {},
   "outputs": [
    {
     "name": "stdout",
     "output_type": "stream",
     "text": [
      "9. Score de risco médio por navegador:\n"
     ]
    },
    {
     "data": {
      "text/plain": [
       "browser_type\n",
       "Safari     0.708535\n",
       "Edge       0.694367\n",
       "Chrome     0.686569\n",
       "Firefox    0.684510\n",
       "Name: risk_score, dtype: float64"
      ]
     },
     "execution_count": 17,
     "metadata": {},
     "output_type": "execute_result"
    }
   ],
   "source": [
    "print(\"9. Score de risco médio por navegador:\")\n",
    "risco_por_navegador = df.groupby('browser_type')['risk_score'].mean().sort_values(ascending=False)\n",
    "risco_por_navegador"
   ]
  },
  {
   "cell_type": "code",
   "execution_count": 19,
   "id": "4ecfdd7d",
   "metadata": {},
   "outputs": [
    {
     "name": "stdout",
     "output_type": "stream",
     "text": [
      "10. Combinações únicas (protocolo + criptografia) entre ataques: 6\n"
     ]
    }
   ],
   "source": [
    "combinacoes_unicas = df[df['attack_detected'] == 1]['protocol_encrypt'].nunique()\n",
    "print(f\"10. Combinações únicas (protocolo + criptografia) entre ataques: {combinacoes_unicas}\")"
   ]
  },
  {
   "cell_type": "code",
   "execution_count": 20,
   "id": "38ab508f",
   "metadata": {},
   "outputs": [
    {
     "name": "stdout",
     "output_type": "stream",
     "text": [
      "11. Taxa de Ataques Detectados: 42.68%\n"
     ]
    }
   ],
   "source": [
    "attack_rate = df['attack_detected'].mean() * 100\n",
    "print(f\"11. Taxa de Ataques Detectados: {attack_rate:.2f}%\")"
   ]
  },
  {
   "cell_type": "code",
   "execution_count": 23,
   "id": "f8c8455b",
   "metadata": {},
   "outputs": [
    {
     "name": "stdout",
     "output_type": "stream",
     "text": [
      "12. Média de Risk Score por Protocolo:\n"
     ]
    },
    {
     "data": {
      "text/plain": [
       "protocol_type\n",
       "TCP     0.692600\n",
       "UDP     0.682813\n",
       "ICMP    0.663593\n",
       "Name: risk_score, dtype: float64"
      ]
     },
     "execution_count": 23,
     "metadata": {},
     "output_type": "execute_result"
    }
   ],
   "source": [
    "risk_by_protocol = df.groupby('protocol_type')['risk_score'].mean().sort_values(ascending=False)\n",
    "print(\"12. Média de Risk Score por Protocolo:\")\n",
    "risk_by_protocol"
   ]
  },
  {
   "cell_type": "code",
   "execution_count": 24,
   "id": "5c670ea2",
   "metadata": {},
   "outputs": [
    {
     "name": "stdout",
     "output_type": "stream",
     "text": [
      "13. Taxa de Sessões Longas com Ataque: 43.38%\n"
     ]
    }
   ],
   "source": [
    "long_attack_rate = df[df['long_session'] == 1.0]['attack_detected'].mean() * 100\n",
    "print(f\"13. Taxa de Sessões Longas com Ataque: {long_attack_rate:.2f}%\")"
   ]
  },
  {
   "cell_type": "code",
   "execution_count": 25,
   "id": "98fe6171",
   "metadata": {},
   "outputs": [
    {
     "name": "stdout",
     "output_type": "stream",
     "text": [
      "14. Correlação (Failed Logins x Ataques): 0.38\n"
     ]
    }
   ],
   "source": [
    "correlation = df[['failed_logins', 'attack_detected']].corr().iloc[0, 1]\n",
    "print(f\"14. Correlação (Failed Logins x Ataques): {correlation:.2f}\")"
   ]
  },
  {
   "cell_type": "code",
   "execution_count": 27,
   "id": "99570dde",
   "metadata": {},
   "outputs": [
    {
     "name": "stdout",
     "output_type": "stream",
     "text": [
      "15. Ataques por Navegador:\n"
     ]
    },
    {
     "data": {
      "text/plain": [
       "browser_type\n",
       "Chrome     1736.0\n",
       "Edge        513.0\n",
       "Firefox     647.0\n",
       "Safari      166.0\n",
       "Name: attack_detected, dtype: float64"
      ]
     },
     "execution_count": 27,
     "metadata": {},
     "output_type": "execute_result"
    }
   ],
   "source": [
    "attack_by_browser = df.groupby('browser_type')['attack_detected'].sum()\n",
    "print(\"15. Ataques por Navegador:\")\n",
    "attack_by_browser\n"
   ]
  },
  {
   "cell_type": "code",
   "execution_count": 28,
   "id": "c295de11",
   "metadata": {},
   "outputs": [
    {
     "name": "stdout",
     "output_type": "stream",
     "text": [
      "16. Reputação Média de IP (Ataque vs. Normal):\n"
     ]
    },
    {
     "data": {
      "text/plain": [
       "attack_detected\n",
       "0.0    0.296567\n",
       "1.0    0.377615\n",
       "Name: ip_reputation_score, dtype: float64"
      ]
     },
     "execution_count": 28,
     "metadata": {},
     "output_type": "execute_result"
    }
   ],
   "source": [
    "ip_rep_attack = df.groupby('attack_detected')['ip_reputation_score'].mean()\n",
    "print(\"16. Reputação Média de IP (Ataque vs. Normal):\")\n",
    "ip_rep_attack"
   ]
  },
  {
   "cell_type": "code",
   "execution_count": 29,
   "id": "92a7020f",
   "metadata": {},
   "outputs": [
    {
     "name": "stdout",
     "output_type": "stream",
     "text": [
      "17. Taxa de Ataques por Tipo de Criptografia:\n"
     ]
    },
    {
     "data": {
      "text/plain": [
       "encryption_used\n",
       "AES    41.979753\n",
       "DES    43.825577\n",
       "Name: attack_detected, dtype: float64"
      ]
     },
     "execution_count": 29,
     "metadata": {},
     "output_type": "execute_result"
    }
   ],
   "source": [
    "attack_by_encryption = df.groupby('encryption_used')['attack_detected'].mean() * 100\n",
    "print(\"17. Taxa de Ataques por Tipo de Criptografia:\")\n",
    "attack_by_encryption"
   ]
  },
  {
   "cell_type": "code",
   "execution_count": 30,
   "id": "fc71d821",
   "metadata": {},
   "outputs": [
    {
     "name": "stdout",
     "output_type": "stream",
     "text": [
      "18. Taxa de Ataques em Horários Incomuns: 43.65%\n"
     ]
    }
   ],
   "source": [
    "unusual_time_attack = df[df['unusual_time_access'] == 1.0]['attack_detected'].mean() * 100\n",
    "print(f\"18. Taxa de Ataques em Horários Incomuns: {unusual_time_attack:.2f}%\")"
   ]
  },
  {
   "cell_type": "code",
   "execution_count": 31,
   "id": "1b6634b3",
   "metadata": {},
   "outputs": [
    {
     "name": "stdout",
     "output_type": "stream",
     "text": [
      "19. Risk Score Médio por Tamanho de Pacote:\n"
     ]
    },
    {
     "data": {
      "text/plain": [
       "large_packet\n",
       "0    0.686861\n",
       "1    0.690308\n",
       "Name: risk_score, dtype: float64"
      ]
     },
     "execution_count": 31,
     "metadata": {},
     "output_type": "execute_result"
    }
   ],
   "source": [
    "large_packet_risk = df.groupby('large_packet')['risk_score'].mean()\n",
    "print(\"19. Risk Score Médio por Tamanho de Pacote:\")\n",
    "large_packet_risk"
   ]
  },
  {
   "cell_type": "code",
   "execution_count": 32,
   "id": "07e4955b",
   "metadata": {},
   "outputs": [
    {
     "name": "stdout",
     "output_type": "stream",
     "text": [
      "20. Duração Média da Sessão (Ataque vs. Normal):\n"
     ]
    },
    {
     "data": {
      "text/plain": [
       "attack_detected\n",
       "0.0    750.839445\n",
       "1.0    838.957366\n",
       "Name: session_duration, dtype: float64"
      ]
     },
     "execution_count": 32,
     "metadata": {},
     "output_type": "execute_result"
    }
   ],
   "source": [
    "session_duration_attack = df.groupby('attack_detected')['session_duration'].mean()\n",
    "print(\"20. Duração Média da Sessão (Ataque vs. Normal):\")\n",
    "session_duration_attack"
   ]
  },
  {
   "cell_type": "markdown",
   "id": "a2577990",
   "metadata": {},
   "source": [
    "# Relatório de Métricas de Segurança\n",
    "\n",
    "## Resumo Executivo\n",
    "- **Taxa global de ataques detectados**: `42.68%`  \n",
    "- **Duração média de sessões atacadas**: `838.96` (vs. `750.84` em sessões legítimas)  \n",
    "- **IP Reputation médio em ataques**: `0.38` (vs. `0.30` em normais)  \n",
    "#\n",
    "---\n",
    "\n",
    "## Métricas Detalhadas\n",
    "\n",
    "### 1. Taxas de Ocorrência\n",
    "| Métrica | Valor |\n",
    "|---------|-------|\n",
    "| Taxa de sessões com ataque detectado | 42.68% |\n",
    "| Taxa de sessões em horário incomum | 15.26% |\n",
    "| Taxa de ataques com pacotes grandes | 50.00% |\n",
    "| Taxa de sessões longas com ataque | 43.38% |\n",
    "| Taxa de ataques em horários incomuns | 43.65% |\n",
    "\n",
    "### 2. Comportamento de Ataques\n",
    "| Métrica | Valor |\n",
    "|---------|-------|\n",
    "| Tentativas de login (média em ataques) | 4.64 |\n",
    "| Duração média (ataques) | 838.96 |\n",
    "| Duração média (sessões legítimas) | 750.84 |\n",
    "| Correlação (Failed Logins x Ataques) | 0.38 |\n",
    "\n",
    "### 3. Distribuição por Protocolo\n",
    "| Protocolo | Total de Ataques | Risk Score Médio |\n",
    "|-----------|------------------|------------------|\n",
    "| TCP       | 2144             | 0.6926           |\n",
    "| UDP       | 768              | 0.6828           |\n",
    "| ICMP      | 150              | 0.6636           |\n",
    "\n",
    "### 4. Criptografia\n",
    "| Métrica | Valor |\n",
    "|---------|-------|\n",
    "| Taxa de sessões com criptografia entre ataques | 100.00% |\n",
    "| Taxa de ataques (AES) | 41.98% |\n",
    "| Taxa de ataques (DES) | 43.83% |\n",
    "| Combinações únicas (protocolo + criptografia) | 6 |\n",
    "\n",
    "### 5. Navegadores\n",
    "| Navegador | Total de Ataques | Risk Score Médio |\n",
    "|-----------|------------------|------------------|\n",
    "| Chrome    | 1736.0           | 0.6866           |\n",
    "| Edge      | 513.0            | 0.6944           |\n",
    "| Firefox   | 647.0            | 0.6845           |\n",
    "| Safari    | 166.0            | 0.7085           |\n",
    "\n",
    "### 6. Variáveis de Risco\n",
    "| Métrica | Valor (Ataques) | Valor (Normal) |\n",
    "|---------|-----------------|----------------|\n",
    "| IP Reputation | 0.377615 | 0.296567 |\n",
    "| Risk Score (pacotes grandes) | 0.690308 | 0.686861 |\n",
    "#\n",
    "---\n",
    "\n",
    "## Insights Principais\n",
    "1. **Protocolo TCP** é o mais visado (2144 ataques) e tem o **maior risk score médio** (0.6926).  \n",
    "2. **Sessões longas** têm taxa de ataque 1.6x maior que a média geral.  \n",
    "3. **Pacotes grandes** estão presentes em 50% dos ataques, com risk score ligeiramente superior.  \n",
    "4. **Chrome** é o navegador mais atacado (1736 casos), mas **Safari** tem o maior risk score médio (0.7085).  \n",
    "5. **Criptografia DES** tem taxa de ataques 1.8% maior que AES.  \n",
    "#"
   ]
  }
 ],
 "metadata": {
  "kernelspec": {
   "display_name": "3.13.1",
   "language": "python",
   "name": "python3"
  },
  "language_info": {
   "codemirror_mode": {
    "name": "ipython",
    "version": 3
   },
   "file_extension": ".py",
   "mimetype": "text/x-python",
   "name": "python",
   "nbconvert_exporter": "python",
   "pygments_lexer": "ipython3",
   "version": "3.13.1"
  }
 },
 "nbformat": 4,
 "nbformat_minor": 5
}
