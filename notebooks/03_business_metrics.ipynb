{
 "cells": [
  {
   "cell_type": "markdown",
   "id": "89a245f5",
   "metadata": {},
   "source": [
    "##### Imports"
   ]
  },
  {
   "cell_type": "code",
   "execution_count": null,
   "id": "f5b0efc6",
   "metadata": {},
   "outputs": [],
   "source": [
    "import pandas as pd"
   ]
  },
  {
   "cell_type": "code",
   "execution_count": 3,
   "id": "6165bee6",
   "metadata": {},
   "outputs": [],
   "source": [
    "df = pd.read_csv(\"../data/raw/membership_groceries_userprofile.csv\")"
   ]
  },
  {
   "cell_type": "code",
   "execution_count": 4,
   "id": "cc4d3613",
   "metadata": {},
   "outputs": [
    {
     "data": {
      "text/plain": [
       "Index(['id', 'gender', 'shared_account', 'membership_tier',\n",
       "       'membership_auto_renew', 'membership_fee', 'membership_start_date',\n",
       "       'push_notification_enabled', 'have_app', 'app_engagement_score',\n",
       "       'bought_store_brand', 'promotion_participation_count',\n",
       "       'average_basket_size', 'use_count', 'reward_points_used'],\n",
       "      dtype='object')"
      ]
     },
     "execution_count": 4,
     "metadata": {},
     "output_type": "execute_result"
    }
   ],
   "source": [
    "df.columns"
   ]
  },
  {
   "cell_type": "markdown",
   "id": "36d3964b",
   "metadata": {},
   "source": [
    "##### Métricas"
   ]
  },
  {
   "cell_type": "code",
   "execution_count": 6,
   "id": "ade6039f",
   "metadata": {},
   "outputs": [
    {
     "data": {
      "text/plain": [
       "np.float64(11.301864801864802)"
      ]
     },
     "execution_count": 6,
     "metadata": {},
     "output_type": "execute_result"
    }
   ],
   "source": [
    "df['use_count'].mean()"
   ]
  },
  {
   "cell_type": "code",
   "execution_count": 10,
   "id": "2cbf010c",
   "metadata": {},
   "outputs": [
    {
     "data": {
      "text/plain": [
       "membership_tier\n",
       "premium     52.014759\n",
       "standard    51.702376\n",
       "Name: app_engagement_score, dtype: float64"
      ]
     },
     "execution_count": 10,
     "metadata": {},
     "output_type": "execute_result"
    }
   ],
   "source": [
    "df.groupby('membership_tier')['app_engagement_score'].mean()"
   ]
  },
  {
   "cell_type": "code",
   "execution_count": 11,
   "id": "2b73968c",
   "metadata": {},
   "outputs": [
    {
     "data": {
      "text/plain": [
       "membership_tier\n",
       "premium     456.846629\n",
       "standard    422.657248\n",
       "Name: average_basket_size, dtype: float64"
      ]
     },
     "execution_count": 11,
     "metadata": {},
     "output_type": "execute_result"
    }
   ],
   "source": [
    "df.groupby('membership_tier')['average_basket_size'].mean()"
   ]
  },
  {
   "cell_type": "code",
   "execution_count": 12,
   "id": "54651433",
   "metadata": {},
   "outputs": [
    {
     "data": {
      "text/plain": [
       "bought_store_brand\n",
       "0    0.506993\n",
       "1    0.493007\n",
       "Name: proportion, dtype: float64"
      ]
     },
     "execution_count": 12,
     "metadata": {},
     "output_type": "execute_result"
    }
   ],
   "source": [
    "df['bought_store_brand'].value_counts(normalize=True)"
   ]
  },
  {
   "cell_type": "code",
   "execution_count": 13,
   "id": "5c2d14a8",
   "metadata": {},
   "outputs": [
    {
     "data": {
      "text/plain": [
       "np.float64(0.9708624708624709)"
      ]
     },
     "execution_count": 13,
     "metadata": {},
     "output_type": "execute_result"
    }
   ],
   "source": [
    "df['reward_points_used'].gt(0).mean()"
   ]
  },
  {
   "cell_type": "code",
   "execution_count": 14,
   "id": "2de260ac",
   "metadata": {},
   "outputs": [
    {
     "data": {
      "text/plain": [
       "np.float64(0.7482517482517482)"
      ]
     },
     "execution_count": 14,
     "metadata": {},
     "output_type": "execute_result"
    }
   ],
   "source": [
    "df['have_app'].mean()"
   ]
  },
  {
   "cell_type": "code",
   "execution_count": 15,
   "id": "9ce076eb",
   "metadata": {},
   "outputs": [
    {
     "data": {
      "text/plain": [
       "np.float64(0.5174825174825175)"
      ]
     },
     "execution_count": 15,
     "metadata": {},
     "output_type": "execute_result"
    }
   ],
   "source": [
    "df['push_notification_enabled'].mean()"
   ]
  },
  {
   "cell_type": "code",
   "execution_count": 16,
   "id": "d662dce8",
   "metadata": {},
   "outputs": [
    {
     "data": {
      "text/plain": [
       "push_notification_enabled\n",
       "0    33.239758\n",
       "1    69.165878\n",
       "Name: app_engagement_score, dtype: float64"
      ]
     },
     "execution_count": 16,
     "metadata": {},
     "output_type": "execute_result"
    }
   ],
   "source": [
    "df.groupby('push_notification_enabled')['app_engagement_score'].mean()"
   ]
  },
  {
   "cell_type": "code",
   "execution_count": 17,
   "id": "e311ac1c",
   "metadata": {},
   "outputs": [
    {
     "data": {
      "text/plain": [
       "np.float64(2.9696969696969697)"
      ]
     },
     "execution_count": 17,
     "metadata": {},
     "output_type": "execute_result"
    }
   ],
   "source": [
    "df['promotion_participation_count'].mean()"
   ]
  },
  {
   "cell_type": "code",
   "execution_count": 18,
   "id": "6b2cc927",
   "metadata": {},
   "outputs": [
    {
     "data": {
      "text/plain": [
       "promotion_participation_count\n",
       "0    11.244444\n",
       "1    11.814516\n",
       "2    10.993902\n",
       "3    11.089744\n",
       "4    11.325926\n",
       "5    11.579439\n",
       "6    11.729730\n",
       "7    10.906250\n",
       "8    10.200000\n",
       "9    11.333333\n",
       "Name: use_count, dtype: float64"
      ]
     },
     "execution_count": 18,
     "metadata": {},
     "output_type": "execute_result"
    }
   ],
   "source": [
    "df.groupby('promotion_participation_count')['use_count'].mean()"
   ]
  },
  {
   "cell_type": "markdown",
   "id": "4ea2e87b",
   "metadata": {},
   "source": [
    "### Principais Insights\n",
    "\n",
    "- O uso médio do serviço por cliente é de 11,3 vezes.\n",
    "- O engajamento com o app é consideravelmente maior para clientes que ativaram notificações push (69,2 vs 33,2).\n",
    "- Clientes premium apresentam maior engajamento com o app e maior gasto médio por compra em relação aos clientes standard.\n",
    "- 97% dos clientes utilizam pontos de recompensa, demonstrando forte adoção do programa de benefícios.\n",
    "- A marca própria é comprada por 49,3% dos clientes, indicando espaço para crescimento da fidelidade à marca interna.\n",
    "- A média de participação em promoções é de cerca de 3 promoções por cliente, com um leve aumento no uso do serviço conforme aumenta a participação."
   ]
  }
 ],
 "metadata": {
  "kernelspec": {
   "display_name": "3.13.1",
   "language": "python",
   "name": "python3"
  },
  "language_info": {
   "codemirror_mode": {
    "name": "ipython",
    "version": 3
   },
   "file_extension": ".py",
   "mimetype": "text/x-python",
   "name": "python",
   "nbconvert_exporter": "python",
   "pygments_lexer": "ipython3",
   "version": "3.13.1"
  }
 },
 "nbformat": 4,
 "nbformat_minor": 5
}
