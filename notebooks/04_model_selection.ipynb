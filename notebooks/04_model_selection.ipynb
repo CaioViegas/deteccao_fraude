{
 "cells": [
  {
   "cell_type": "markdown",
   "id": "79a83d44",
   "metadata": {},
   "source": [
    "##### Importações"
   ]
  },
  {
   "cell_type": "code",
   "execution_count": 1,
   "id": "147436ef",
   "metadata": {},
   "outputs": [],
   "source": [
    "import pandas as pd\n",
    "import numpy as np\n",
    "from sklearn.model_selection import train_test_split\n",
    "from sklearn.preprocessing import StandardScaler, MinMaxScaler, RobustScaler\n",
    "from sklearn.pipeline import Pipeline\n",
    "from sklearn.metrics import accuracy_score, precision_score, recall_score, f1_score, roc_auc_score\n",
    "from sklearn.linear_model import LogisticRegression\n",
    "from sklearn.ensemble import RandomForestClassifier, GradientBoostingClassifier\n",
    "from sklearn.svm import SVC\n",
    "from sklearn.neighbors import KNeighborsClassifier"
   ]
  },
  {
   "cell_type": "code",
   "execution_count": 2,
   "id": "1adcbd9f",
   "metadata": {},
   "outputs": [],
   "source": [
    "df = pd.read_csv(\"../data/processed/processed_cybersecurity_intrusion_data.csv\")"
   ]
  },
  {
   "cell_type": "code",
   "execution_count": 5,
   "id": "fe5f646c",
   "metadata": {},
   "outputs": [
    {
     "data": {
      "text/plain": [
       "Index(['ohe__protocol_type_ICMP', 'ohe__protocol_type_TCP',\n",
       "       'ohe__protocol_type_UDP', 'ohe__browser_type_Chrome',\n",
       "       'ohe__browser_type_Edge', 'ohe__browser_type_Firefox',\n",
       "       'ohe__browser_type_Safari', 'ohe__protocol_encrypt_ICMP_AES',\n",
       "       'ohe__protocol_encrypt_ICMP_DES', 'ohe__protocol_encrypt_TCP_AES',\n",
       "       'ohe__protocol_encrypt_TCP_DES', 'ohe__protocol_encrypt_UDP_AES',\n",
       "       'ohe__protocol_encrypt_UDP_DES', 'remainder__network_packet_size',\n",
       "       'remainder__login_attempts', 'remainder__session_duration',\n",
       "       'remainder__encryption_used', 'remainder__ip_reputation_score',\n",
       "       'remainder__failed_logins', 'remainder__unusual_time_access',\n",
       "       'remainder__attack_detected', 'remainder__long_session',\n",
       "       'remainder__large_packet', 'remainder__risk_score',\n",
       "       'is_outlier_ohe__protocol_type_ICMP',\n",
       "       'is_outlier_ohe__protocol_type_TCP',\n",
       "       'is_outlier_ohe__protocol_type_UDP',\n",
       "       'is_outlier_ohe__browser_type_Chrome',\n",
       "       'is_outlier_ohe__browser_type_Edge',\n",
       "       'is_outlier_ohe__browser_type_Firefox',\n",
       "       'is_outlier_ohe__browser_type_Safari',\n",
       "       'is_outlier_ohe__protocol_encrypt_ICMP_AES',\n",
       "       'is_outlier_ohe__protocol_encrypt_ICMP_DES',\n",
       "       'is_outlier_ohe__protocol_encrypt_TCP_AES',\n",
       "       'is_outlier_ohe__protocol_encrypt_TCP_DES',\n",
       "       'is_outlier_ohe__protocol_encrypt_UDP_AES',\n",
       "       'is_outlier_ohe__protocol_encrypt_UDP_DES',\n",
       "       'is_outlier_remainder__network_packet_size',\n",
       "       'is_outlier_remainder__login_attempts',\n",
       "       'is_outlier_remainder__session_duration',\n",
       "       'is_outlier_remainder__encryption_used',\n",
       "       'is_outlier_remainder__ip_reputation_score',\n",
       "       'is_outlier_remainder__failed_logins',\n",
       "       'is_outlier_remainder__unusual_time_access',\n",
       "       'is_outlier_remainder__attack_detected',\n",
       "       'is_outlier_remainder__long_session',\n",
       "       'is_outlier_remainder__large_packet',\n",
       "       'is_outlier_remainder__risk_score'],\n",
       "      dtype='object')"
      ]
     },
     "execution_count": 5,
     "metadata": {},
     "output_type": "execute_result"
    }
   ],
   "source": [
    "df.columns"
   ]
  },
  {
   "cell_type": "code",
   "execution_count": null,
   "id": "5b93c71e",
   "metadata": {},
   "outputs": [],
   "source": []
  },
  {
   "cell_type": "code",
   "execution_count": null,
   "id": "407cdbd3",
   "metadata": {},
   "outputs": [],
   "source": []
  },
  {
   "cell_type": "code",
   "execution_count": null,
   "id": "7e5b67f3",
   "metadata": {},
   "outputs": [],
   "source": []
  },
  {
   "cell_type": "code",
   "execution_count": null,
   "id": "7d948fac",
   "metadata": {},
   "outputs": [],
   "source": []
  },
  {
   "cell_type": "code",
   "execution_count": null,
   "id": "da7a5a96",
   "metadata": {},
   "outputs": [],
   "source": []
  },
  {
   "cell_type": "code",
   "execution_count": null,
   "id": "86eadddf",
   "metadata": {},
   "outputs": [],
   "source": []
  },
  {
   "cell_type": "code",
   "execution_count": null,
   "id": "48b61120",
   "metadata": {},
   "outputs": [],
   "source": []
  },
  {
   "cell_type": "code",
   "execution_count": null,
   "id": "b65b19fa",
   "metadata": {},
   "outputs": [],
   "source": []
  },
  {
   "cell_type": "code",
   "execution_count": null,
   "id": "d10525eb",
   "metadata": {},
   "outputs": [],
   "source": []
  },
  {
   "cell_type": "code",
   "execution_count": null,
   "id": "3fd98ba4",
   "metadata": {},
   "outputs": [],
   "source": []
  }
 ],
 "metadata": {
  "kernelspec": {
   "display_name": "3.13.1",
   "language": "python",
   "name": "python3"
  },
  "language_info": {
   "codemirror_mode": {
    "name": "ipython",
    "version": 3
   },
   "file_extension": ".py",
   "mimetype": "text/x-python",
   "name": "python",
   "nbconvert_exporter": "python",
   "pygments_lexer": "ipython3",
   "version": "3.13.1"
  }
 },
 "nbformat": 4,
 "nbformat_minor": 5
}
